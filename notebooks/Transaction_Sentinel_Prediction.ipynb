{
 "cells": [
  {
   "cell_type": "code",
   "execution_count": null,
   "id": "59c14039",
   "metadata": {},
   "outputs": [],
   "source": [
    "# Cell 1: Imports\n",
    "import joblib\n",
    "import pandas as pd\n",
    "import matplotlib.pyplot as plt\n",
    "from xgboost import plot_importance\n",
    "\n",
    "# Cell 2: Load model\n",
    "model = joblib.load('xgb_fraud_model.pkl')\n",
    "\n",
    "# Cell 3: Load new data\n",
    "new_data = pd.read_csv('new_data.csv')\n",
    "feature_columns = ['V1', 'V2', ..., 'scaled_time']  # full list here\n",
    "X_new = new_data[feature_columns]\n",
    "\n",
    "# Cell 4: Predict\n",
    "y_proba_new = model.predict_proba(X_new)[:, 1]\n",
    "threshold = 0.579\n",
    "new_data['fraud_prediction'] = (y_proba_new >= threshold).astype(int)\n",
    "new_data.head()\n",
    "\n",
    "# Cell 5: Save results\n",
    "new_data.to_csv('new_data_with_predictions.csv', index=False)\n",
    "\n",
    "# Cell 6: Feature importance plot\n",
    "plt.figure(figsize=(10,8))\n",
    "plot_importance(model, max_num_features=15, importance_type='gain')\n",
    "plt.title('Top 15 Feature Importances (by Gain)')\n",
    "plt.show()"
   ]
  }
 ],
 "metadata": {
  "language_info": {
   "name": "python"
  }
 },
 "nbformat": 4,
 "nbformat_minor": 5
}
